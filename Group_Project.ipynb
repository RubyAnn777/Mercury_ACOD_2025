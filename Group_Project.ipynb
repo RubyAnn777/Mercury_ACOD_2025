{
 "cells": [
  {
   "cell_type": "markdown",
   "id": "d6440183",
   "metadata": {},
   "source": [
    "### Group Prject - London Bike Rentals\n",
    "\n",
    "In this project, you will work with the London Bikes dataset, which records daily bike rentals in the city along with key variables such as dates, weather conditions, and seasonality.\n",
    "\n",
    "The goal is to apply the full data analytics workflow:\n",
    "\n",
    "- Clean and prepare the dataset.\n",
    "\n",
    "- Explore the data through visualisation.\n",
    "\n",
    "- Construct and interpret confidence intervals.\n",
    "\n",
    "- Build a regression model to explain variation in bike rentals.\n",
    "\n",
    "- By the end, you will connect statistical concepts with practical Python analysis."
   ]
  },
  {
   "cell_type": "code",
   "execution_count": 5,
   "id": "77f62329",
   "metadata": {},
   "outputs": [],
   "source": [
    "## Import libraries\n",
    "import pandas as pd\n",
    "import numpy as np\n",
    "import matplotlib.pyplot as plt\n",
    "import seaborn as sns"
   ]
  },
  {
   "cell_type": "code",
   "execution_count": 7,
   "id": "5d0d45f3",
   "metadata": {},
   "outputs": [
    {
     "data": {
      "application/vnd.microsoft.datawrangler.viewer.v0+json": {
       "columns": [
        {
         "name": "index",
         "rawType": "int64",
         "type": "integer"
        },
        {
         "name": "date",
         "rawType": "object",
         "type": "string"
        },
        {
         "name": "bikes_hired",
         "rawType": "int64",
         "type": "integer"
        },
        {
         "name": "year",
         "rawType": "int64",
         "type": "integer"
        },
        {
         "name": "wday",
         "rawType": "object",
         "type": "string"
        },
        {
         "name": "month",
         "rawType": "object",
         "type": "string"
        },
        {
         "name": "week",
         "rawType": "int64",
         "type": "integer"
        },
        {
         "name": "cloud_cover",
         "rawType": "float64",
         "type": "float"
        },
        {
         "name": "humidity",
         "rawType": "float64",
         "type": "float"
        },
        {
         "name": "pressure",
         "rawType": "float64",
         "type": "float"
        },
        {
         "name": "radiation",
         "rawType": "float64",
         "type": "float"
        },
        {
         "name": "precipitation",
         "rawType": "float64",
         "type": "float"
        },
        {
         "name": "snow_depth",
         "rawType": "float64",
         "type": "float"
        },
        {
         "name": "sunshine",
         "rawType": "float64",
         "type": "float"
        },
        {
         "name": "mean_temp",
         "rawType": "float64",
         "type": "float"
        },
        {
         "name": "min_temp",
         "rawType": "float64",
         "type": "float"
        },
        {
         "name": "max_temp",
         "rawType": "float64",
         "type": "float"
        },
        {
         "name": "weekend",
         "rawType": "bool",
         "type": "boolean"
        }
       ],
       "ref": "bb6dc5f8-2079-4767-91af-582fe4034d84",
       "rows": [
        [
         "0",
         "2010-07-30T00:00:00Z",
         "6897",
         "2010",
         "Fri",
         "Jul",
         "30",
         "6.0",
         "65.0",
         "10147.0",
         "157.0",
         "22.0",
         null,
         "31.0",
         "17.7",
         "12.3",
         "25.1",
         "False"
        ],
        [
         "1",
         "2010-07-31T00:00:00Z",
         "5564",
         "2010",
         "Sat",
         "Jul",
         "30",
         "5.0",
         "70.0",
         "10116.0",
         "184.0",
         "0.0",
         null,
         "47.0",
         "21.1",
         "17.0",
         "23.9",
         "True"
        ],
        [
         "2",
         "2010-08-01T00:00:00Z",
         "4303",
         "2010",
         "Sun",
         "Aug",
         "30",
         "7.0",
         "63.0",
         "10132.0",
         "89.0",
         "0.0",
         null,
         "3.0",
         "19.3",
         "14.6",
         "23.4",
         "True"
        ],
        [
         "3",
         "2010-08-02T00:00:00Z",
         "6642",
         "2010",
         "Mon",
         "Aug",
         "31",
         "7.0",
         "59.0",
         "10168.0",
         "134.0",
         "0.0",
         null,
         "20.0",
         "19.5",
         "15.6",
         "23.6",
         "False"
        ],
        [
         "4",
         "2010-08-03T00:00:00Z",
         "7966",
         "2010",
         "Tue",
         "Aug",
         "31",
         "5.0",
         "66.0",
         "10157.0",
         "169.0",
         "0.0",
         null,
         "39.0",
         "17.9",
         "12.1",
         "20.1",
         "False"
        ]
       ],
       "shape": {
        "columns": 17,
        "rows": 5
       }
      },
      "text/html": [
       "<div>\n",
       "<style scoped>\n",
       "    .dataframe tbody tr th:only-of-type {\n",
       "        vertical-align: middle;\n",
       "    }\n",
       "\n",
       "    .dataframe tbody tr th {\n",
       "        vertical-align: top;\n",
       "    }\n",
       "\n",
       "    .dataframe thead th {\n",
       "        text-align: right;\n",
       "    }\n",
       "</style>\n",
       "<table border=\"1\" class=\"dataframe\">\n",
       "  <thead>\n",
       "    <tr style=\"text-align: right;\">\n",
       "      <th></th>\n",
       "      <th>date</th>\n",
       "      <th>bikes_hired</th>\n",
       "      <th>year</th>\n",
       "      <th>wday</th>\n",
       "      <th>month</th>\n",
       "      <th>week</th>\n",
       "      <th>cloud_cover</th>\n",
       "      <th>humidity</th>\n",
       "      <th>pressure</th>\n",
       "      <th>radiation</th>\n",
       "      <th>precipitation</th>\n",
       "      <th>snow_depth</th>\n",
       "      <th>sunshine</th>\n",
       "      <th>mean_temp</th>\n",
       "      <th>min_temp</th>\n",
       "      <th>max_temp</th>\n",
       "      <th>weekend</th>\n",
       "    </tr>\n",
       "  </thead>\n",
       "  <tbody>\n",
       "    <tr>\n",
       "      <th>0</th>\n",
       "      <td>2010-07-30T00:00:00Z</td>\n",
       "      <td>6897</td>\n",
       "      <td>2010</td>\n",
       "      <td>Fri</td>\n",
       "      <td>Jul</td>\n",
       "      <td>30</td>\n",
       "      <td>6.0</td>\n",
       "      <td>65.0</td>\n",
       "      <td>10147.0</td>\n",
       "      <td>157.0</td>\n",
       "      <td>22.0</td>\n",
       "      <td>NaN</td>\n",
       "      <td>31.0</td>\n",
       "      <td>17.7</td>\n",
       "      <td>12.3</td>\n",
       "      <td>25.1</td>\n",
       "      <td>False</td>\n",
       "    </tr>\n",
       "    <tr>\n",
       "      <th>1</th>\n",
       "      <td>2010-07-31T00:00:00Z</td>\n",
       "      <td>5564</td>\n",
       "      <td>2010</td>\n",
       "      <td>Sat</td>\n",
       "      <td>Jul</td>\n",
       "      <td>30</td>\n",
       "      <td>5.0</td>\n",
       "      <td>70.0</td>\n",
       "      <td>10116.0</td>\n",
       "      <td>184.0</td>\n",
       "      <td>0.0</td>\n",
       "      <td>NaN</td>\n",
       "      <td>47.0</td>\n",
       "      <td>21.1</td>\n",
       "      <td>17.0</td>\n",
       "      <td>23.9</td>\n",
       "      <td>True</td>\n",
       "    </tr>\n",
       "    <tr>\n",
       "      <th>2</th>\n",
       "      <td>2010-08-01T00:00:00Z</td>\n",
       "      <td>4303</td>\n",
       "      <td>2010</td>\n",
       "      <td>Sun</td>\n",
       "      <td>Aug</td>\n",
       "      <td>30</td>\n",
       "      <td>7.0</td>\n",
       "      <td>63.0</td>\n",
       "      <td>10132.0</td>\n",
       "      <td>89.0</td>\n",
       "      <td>0.0</td>\n",
       "      <td>NaN</td>\n",
       "      <td>3.0</td>\n",
       "      <td>19.3</td>\n",
       "      <td>14.6</td>\n",
       "      <td>23.4</td>\n",
       "      <td>True</td>\n",
       "    </tr>\n",
       "    <tr>\n",
       "      <th>3</th>\n",
       "      <td>2010-08-02T00:00:00Z</td>\n",
       "      <td>6642</td>\n",
       "      <td>2010</td>\n",
       "      <td>Mon</td>\n",
       "      <td>Aug</td>\n",
       "      <td>31</td>\n",
       "      <td>7.0</td>\n",
       "      <td>59.0</td>\n",
       "      <td>10168.0</td>\n",
       "      <td>134.0</td>\n",
       "      <td>0.0</td>\n",
       "      <td>NaN</td>\n",
       "      <td>20.0</td>\n",
       "      <td>19.5</td>\n",
       "      <td>15.6</td>\n",
       "      <td>23.6</td>\n",
       "      <td>False</td>\n",
       "    </tr>\n",
       "    <tr>\n",
       "      <th>4</th>\n",
       "      <td>2010-08-03T00:00:00Z</td>\n",
       "      <td>7966</td>\n",
       "      <td>2010</td>\n",
       "      <td>Tue</td>\n",
       "      <td>Aug</td>\n",
       "      <td>31</td>\n",
       "      <td>5.0</td>\n",
       "      <td>66.0</td>\n",
       "      <td>10157.0</td>\n",
       "      <td>169.0</td>\n",
       "      <td>0.0</td>\n",
       "      <td>NaN</td>\n",
       "      <td>39.0</td>\n",
       "      <td>17.9</td>\n",
       "      <td>12.1</td>\n",
       "      <td>20.1</td>\n",
       "      <td>False</td>\n",
       "    </tr>\n",
       "  </tbody>\n",
       "</table>\n",
       "</div>"
      ],
      "text/plain": [
       "                   date  bikes_hired  year wday month  week  cloud_cover  \\\n",
       "0  2010-07-30T00:00:00Z         6897  2010  Fri   Jul    30          6.0   \n",
       "1  2010-07-31T00:00:00Z         5564  2010  Sat   Jul    30          5.0   \n",
       "2  2010-08-01T00:00:00Z         4303  2010  Sun   Aug    30          7.0   \n",
       "3  2010-08-02T00:00:00Z         6642  2010  Mon   Aug    31          7.0   \n",
       "4  2010-08-03T00:00:00Z         7966  2010  Tue   Aug    31          5.0   \n",
       "\n",
       "   humidity  pressure  radiation  precipitation  snow_depth  sunshine  \\\n",
       "0      65.0   10147.0      157.0           22.0         NaN      31.0   \n",
       "1      70.0   10116.0      184.0            0.0         NaN      47.0   \n",
       "2      63.0   10132.0       89.0            0.0         NaN       3.0   \n",
       "3      59.0   10168.0      134.0            0.0         NaN      20.0   \n",
       "4      66.0   10157.0      169.0            0.0         NaN      39.0   \n",
       "\n",
       "   mean_temp  min_temp  max_temp  weekend  \n",
       "0       17.7      12.3      25.1    False  \n",
       "1       21.1      17.0      23.9     True  \n",
       "2       19.3      14.6      23.4     True  \n",
       "3       19.5      15.6      23.6    False  \n",
       "4       17.9      12.1      20.1    False  "
      ]
     },
     "execution_count": 7,
     "metadata": {},
     "output_type": "execute_result"
    }
   ],
   "source": [
    "#import data\n",
    "bikes = pd.read_csv('Data/london_bikes.csv')\n",
    "bikes.head()"
   ]
  },
  {
   "cell_type": "markdown",
   "id": "e8eebb78",
   "metadata": {},
   "source": [
    "**1. Data Cleaning**\n",
    "\n",
    "Check for missing values across columns. How would you handle them?\n",
    "\n",
    "Inspect the date column and ensure it is correctly formatted as datetime. Extract useful features (year, month, day, day of week, season).\n",
    "\n",
    "Convert categorical variables (e.g., season, weather) to appropriate categories in Python.\n",
    "\n",
    "Ensure numeric columns (e.g., bikes rented, temperature) are in the right format."
   ]
  },
  {
   "cell_type": "code",
   "execution_count": 10,
   "id": "4982af86",
   "metadata": {},
   "outputs": [
    {
     "name": "stdout",
     "output_type": "stream",
     "text": [
      "<class 'pandas.core.frame.DataFrame'>\n",
      "RangeIndex: 4934 entries, 0 to 4933\n",
      "Data columns (total 17 columns):\n",
      " #   Column         Non-Null Count  Dtype  \n",
      "---  ------         --------------  -----  \n",
      " 0   date           4934 non-null   object \n",
      " 1   bikes_hired    4934 non-null   int64  \n",
      " 2   year           4934 non-null   int64  \n",
      " 3   wday           4934 non-null   object \n",
      " 4   month          4934 non-null   object \n",
      " 5   week           4934 non-null   int64  \n",
      " 6   cloud_cover    4901 non-null   float64\n",
      " 7   humidity       4851 non-null   float64\n",
      " 8   pressure       4903 non-null   float64\n",
      " 9   radiation      4894 non-null   float64\n",
      " 10  precipitation  4903 non-null   float64\n",
      " 11  snow_depth     4632 non-null   float64\n",
      " 12  sunshine       4903 non-null   float64\n",
      " 13  mean_temp      4903 non-null   float64\n",
      " 14  min_temp       4872 non-null   float64\n",
      " 15  max_temp       4903 non-null   float64\n",
      " 16  weekend        4934 non-null   bool   \n",
      "dtypes: bool(1), float64(10), int64(3), object(3)\n",
      "memory usage: 621.7+ KB\n"
     ]
    }
   ],
   "source": [
    "#inspect column types\n",
    "bikes.info()"
   ]
  },
  {
   "cell_type": "code",
   "execution_count": null,
   "id": "6200ef90",
   "metadata": {},
   "outputs": [],
   "source": [
    "#convert date column to datetime format\n",
    "bikes[\"date\"] = pd.to_datetime(\n",
    "    bikes[\"date\"],\n",
    "    format=\"%Y-%m-%dT%H:%M:%SZ\",\n",
    "    errors=\"coerce\",\n",
    "    utc=True\n",
    ")"
   ]
  },
  {
   "cell_type": "code",
   "execution_count": 27,
   "id": "6a25bd53",
   "metadata": {},
   "outputs": [],
   "source": [
    "#Convert Months into sorted category\n",
    "bikes[\"month\"] = pd.Categorical(\n",
    "    bikes[\"date\"].dt.month_name(),\n",
    "    categories=[\n",
    "        \"January\", \"February\", \"March\", \"April\", \"May\", \"June\",\n",
    "        \"July\", \"August\", \"September\", \"October\", \"November\", \"December\"\n",
    "    ],\n",
    "    ordered=True\n",
    ")"
   ]
  },
  {
   "cell_type": "code",
   "execution_count": 13,
   "id": "5748a89f",
   "metadata": {},
   "outputs": [
    {
     "data": {
      "application/vnd.microsoft.datawrangler.viewer.v0+json": {
       "columns": [
        {
         "name": "index",
         "rawType": "object",
         "type": "string"
        },
        {
         "name": "0",
         "rawType": "int64",
         "type": "integer"
        }
       ],
       "ref": "f13932a8-b5ba-4ccd-8d71-6bc60ff0253e",
       "rows": [
        [
         "date",
         "0"
        ],
        [
         "bikes_hired",
         "0"
        ],
        [
         "year",
         "0"
        ],
        [
         "wday",
         "0"
        ],
        [
         "month",
         "0"
        ],
        [
         "week",
         "0"
        ],
        [
         "cloud_cover",
         "0"
        ],
        [
         "humidity",
         "0"
        ],
        [
         "pressure",
         "0"
        ],
        [
         "radiation",
         "0"
        ],
        [
         "precipitation",
         "0"
        ],
        [
         "snow_depth",
         "0"
        ],
        [
         "sunshine",
         "0"
        ],
        [
         "mean_temp",
         "0"
        ],
        [
         "min_temp",
         "0"
        ],
        [
         "max_temp",
         "0"
        ],
        [
         "weekend",
         "0"
        ]
       ],
       "shape": {
        "columns": 1,
        "rows": 17
       }
      },
      "text/plain": [
       "date             0\n",
       "bikes_hired      0\n",
       "year             0\n",
       "wday             0\n",
       "month            0\n",
       "week             0\n",
       "cloud_cover      0\n",
       "humidity         0\n",
       "pressure         0\n",
       "radiation        0\n",
       "precipitation    0\n",
       "snow_depth       0\n",
       "sunshine         0\n",
       "mean_temp        0\n",
       "min_temp         0\n",
       "max_temp         0\n",
       "weekend          0\n",
       "dtype: int64"
      ]
     },
     "execution_count": 13,
     "metadata": {},
     "output_type": "execute_result"
    }
   ],
   "source": [
    "#This is where we checked on the null values\n",
    "bikes.isna().sum()\n",
    "\n",
    "#we identified quite some null values in the following columns\n",
    "#cloud_cover, humidity, pressure, radiation, precipitation, snow_depth, sunshine, mean_temp, min_temp, max_temp\n",
    "#not all columns necessarily indicate lack of data - some null values like in snow depth might represent 0 \n",
    "#however when data on temperature is lacking, we can interpret that these values actually are incomplete"
   ]
  },
  {
   "cell_type": "code",
   "execution_count": 15,
   "id": "391c3c24",
   "metadata": {},
   "outputs": [],
   "source": [
    "#We suggest dropping the na values in humidity, pressure, radiation, mean_temp, min_temp, max_temp completely\n",
    "#Then we want to substitute the other values with 0\n",
    "\n",
    "drop_na_subset = [\"humidity\", \"pressure\", \"radiation\", \n",
    "                \"mean_temp\", \"min_temp\", \"max_temp\"]\n",
    "fill_zero_subset = [\"cloud_cover\", \"precipitation\", \n",
    "                  \"snow_depth\", \"sunshine\"]\n",
    "\n",
    "bikes = bikes.dropna(subset=drop_na_subset)\n",
    "bikes[fill_zero_subset] = bikes[fill_zero_subset].fillna(0)"
   ]
  },
  {
   "cell_type": "code",
   "execution_count": 21,
   "id": "583d1c79",
   "metadata": {},
   "outputs": [
    {
     "data": {
      "application/vnd.microsoft.datawrangler.viewer.v0+json": {
       "columns": [
        {
         "name": "index",
         "rawType": "int64",
         "type": "integer"
        },
        {
         "name": "date",
         "rawType": "datetime64[ns, UTC]",
         "type": "unknown"
        },
        {
         "name": "bikes_hired",
         "rawType": "int64",
         "type": "integer"
        },
        {
         "name": "year",
         "rawType": "int64",
         "type": "integer"
        },
        {
         "name": "wday",
         "rawType": "object",
         "type": "string"
        },
        {
         "name": "month",
         "rawType": "object",
         "type": "string"
        },
        {
         "name": "week",
         "rawType": "int64",
         "type": "integer"
        },
        {
         "name": "cloud_cover",
         "rawType": "float64",
         "type": "float"
        },
        {
         "name": "humidity",
         "rawType": "float64",
         "type": "float"
        },
        {
         "name": "pressure",
         "rawType": "float64",
         "type": "float"
        },
        {
         "name": "radiation",
         "rawType": "float64",
         "type": "float"
        },
        {
         "name": "precipitation",
         "rawType": "float64",
         "type": "float"
        },
        {
         "name": "snow_depth",
         "rawType": "float64",
         "type": "float"
        },
        {
         "name": "sunshine",
         "rawType": "float64",
         "type": "float"
        },
        {
         "name": "mean_temp",
         "rawType": "float64",
         "type": "float"
        },
        {
         "name": "min_temp",
         "rawType": "float64",
         "type": "float"
        },
        {
         "name": "max_temp",
         "rawType": "float64",
         "type": "float"
        },
        {
         "name": "weekend",
         "rawType": "bool",
         "type": "boolean"
        },
        {
         "name": "season",
         "rawType": "category",
         "type": "unknown"
        }
       ],
       "ref": "dc4cf4cc-94b8-4d7e-97b5-817d15b8e74d",
       "rows": [
        [
         "0",
         "2010-07-30 00:00:00+00:00",
         "6897",
         "2010",
         "Fri",
         "Jul",
         "30",
         "6.0",
         "65.0",
         "10147.0",
         "157.0",
         "22.0",
         "0.0",
         "31.0",
         "17.7",
         "12.3",
         "25.1",
         "False",
         "Summer"
        ],
        [
         "1",
         "2010-07-31 00:00:00+00:00",
         "5564",
         "2010",
         "Sat",
         "Jul",
         "30",
         "5.0",
         "70.0",
         "10116.0",
         "184.0",
         "0.0",
         "0.0",
         "47.0",
         "21.1",
         "17.0",
         "23.9",
         "True",
         "Summer"
        ],
        [
         "2",
         "2010-08-01 00:00:00+00:00",
         "4303",
         "2010",
         "Sun",
         "Aug",
         "30",
         "7.0",
         "63.0",
         "10132.0",
         "89.0",
         "0.0",
         "0.0",
         "3.0",
         "19.3",
         "14.6",
         "23.4",
         "True",
         "Summer"
        ],
        [
         "3",
         "2010-08-02 00:00:00+00:00",
         "6642",
         "2010",
         "Mon",
         "Aug",
         "31",
         "7.0",
         "59.0",
         "10168.0",
         "134.0",
         "0.0",
         "0.0",
         "20.0",
         "19.5",
         "15.6",
         "23.6",
         "False",
         "Summer"
        ],
        [
         "4",
         "2010-08-03 00:00:00+00:00",
         "7966",
         "2010",
         "Tue",
         "Aug",
         "31",
         "5.0",
         "66.0",
         "10157.0",
         "169.0",
         "0.0",
         "0.0",
         "39.0",
         "17.9",
         "12.1",
         "20.1",
         "False",
         "Summer"
        ]
       ],
       "shape": {
        "columns": 18,
        "rows": 5
       }
      },
      "text/html": [
       "<div>\n",
       "<style scoped>\n",
       "    .dataframe tbody tr th:only-of-type {\n",
       "        vertical-align: middle;\n",
       "    }\n",
       "\n",
       "    .dataframe tbody tr th {\n",
       "        vertical-align: top;\n",
       "    }\n",
       "\n",
       "    .dataframe thead th {\n",
       "        text-align: right;\n",
       "    }\n",
       "</style>\n",
       "<table border=\"1\" class=\"dataframe\">\n",
       "  <thead>\n",
       "    <tr style=\"text-align: right;\">\n",
       "      <th></th>\n",
       "      <th>date</th>\n",
       "      <th>bikes_hired</th>\n",
       "      <th>year</th>\n",
       "      <th>wday</th>\n",
       "      <th>month</th>\n",
       "      <th>week</th>\n",
       "      <th>cloud_cover</th>\n",
       "      <th>humidity</th>\n",
       "      <th>pressure</th>\n",
       "      <th>radiation</th>\n",
       "      <th>precipitation</th>\n",
       "      <th>snow_depth</th>\n",
       "      <th>sunshine</th>\n",
       "      <th>mean_temp</th>\n",
       "      <th>min_temp</th>\n",
       "      <th>max_temp</th>\n",
       "      <th>weekend</th>\n",
       "      <th>season</th>\n",
       "    </tr>\n",
       "  </thead>\n",
       "  <tbody>\n",
       "    <tr>\n",
       "      <th>0</th>\n",
       "      <td>2010-07-30 00:00:00+00:00</td>\n",
       "      <td>6897</td>\n",
       "      <td>2010</td>\n",
       "      <td>Fri</td>\n",
       "      <td>Jul</td>\n",
       "      <td>30</td>\n",
       "      <td>6.0</td>\n",
       "      <td>65.0</td>\n",
       "      <td>10147.0</td>\n",
       "      <td>157.0</td>\n",
       "      <td>22.0</td>\n",
       "      <td>0.0</td>\n",
       "      <td>31.0</td>\n",
       "      <td>17.7</td>\n",
       "      <td>12.3</td>\n",
       "      <td>25.1</td>\n",
       "      <td>False</td>\n",
       "      <td>Summer</td>\n",
       "    </tr>\n",
       "    <tr>\n",
       "      <th>1</th>\n",
       "      <td>2010-07-31 00:00:00+00:00</td>\n",
       "      <td>5564</td>\n",
       "      <td>2010</td>\n",
       "      <td>Sat</td>\n",
       "      <td>Jul</td>\n",
       "      <td>30</td>\n",
       "      <td>5.0</td>\n",
       "      <td>70.0</td>\n",
       "      <td>10116.0</td>\n",
       "      <td>184.0</td>\n",
       "      <td>0.0</td>\n",
       "      <td>0.0</td>\n",
       "      <td>47.0</td>\n",
       "      <td>21.1</td>\n",
       "      <td>17.0</td>\n",
       "      <td>23.9</td>\n",
       "      <td>True</td>\n",
       "      <td>Summer</td>\n",
       "    </tr>\n",
       "    <tr>\n",
       "      <th>2</th>\n",
       "      <td>2010-08-01 00:00:00+00:00</td>\n",
       "      <td>4303</td>\n",
       "      <td>2010</td>\n",
       "      <td>Sun</td>\n",
       "      <td>Aug</td>\n",
       "      <td>30</td>\n",
       "      <td>7.0</td>\n",
       "      <td>63.0</td>\n",
       "      <td>10132.0</td>\n",
       "      <td>89.0</td>\n",
       "      <td>0.0</td>\n",
       "      <td>0.0</td>\n",
       "      <td>3.0</td>\n",
       "      <td>19.3</td>\n",
       "      <td>14.6</td>\n",
       "      <td>23.4</td>\n",
       "      <td>True</td>\n",
       "      <td>Summer</td>\n",
       "    </tr>\n",
       "    <tr>\n",
       "      <th>3</th>\n",
       "      <td>2010-08-02 00:00:00+00:00</td>\n",
       "      <td>6642</td>\n",
       "      <td>2010</td>\n",
       "      <td>Mon</td>\n",
       "      <td>Aug</td>\n",
       "      <td>31</td>\n",
       "      <td>7.0</td>\n",
       "      <td>59.0</td>\n",
       "      <td>10168.0</td>\n",
       "      <td>134.0</td>\n",
       "      <td>0.0</td>\n",
       "      <td>0.0</td>\n",
       "      <td>20.0</td>\n",
       "      <td>19.5</td>\n",
       "      <td>15.6</td>\n",
       "      <td>23.6</td>\n",
       "      <td>False</td>\n",
       "      <td>Summer</td>\n",
       "    </tr>\n",
       "    <tr>\n",
       "      <th>4</th>\n",
       "      <td>2010-08-03 00:00:00+00:00</td>\n",
       "      <td>7966</td>\n",
       "      <td>2010</td>\n",
       "      <td>Tue</td>\n",
       "      <td>Aug</td>\n",
       "      <td>31</td>\n",
       "      <td>5.0</td>\n",
       "      <td>66.0</td>\n",
       "      <td>10157.0</td>\n",
       "      <td>169.0</td>\n",
       "      <td>0.0</td>\n",
       "      <td>0.0</td>\n",
       "      <td>39.0</td>\n",
       "      <td>17.9</td>\n",
       "      <td>12.1</td>\n",
       "      <td>20.1</td>\n",
       "      <td>False</td>\n",
       "      <td>Summer</td>\n",
       "    </tr>\n",
       "  </tbody>\n",
       "</table>\n",
       "</div>"
      ],
      "text/plain": [
       "                       date  bikes_hired  year wday month  week  cloud_cover  \\\n",
       "0 2010-07-30 00:00:00+00:00         6897  2010  Fri   Jul    30          6.0   \n",
       "1 2010-07-31 00:00:00+00:00         5564  2010  Sat   Jul    30          5.0   \n",
       "2 2010-08-01 00:00:00+00:00         4303  2010  Sun   Aug    30          7.0   \n",
       "3 2010-08-02 00:00:00+00:00         6642  2010  Mon   Aug    31          7.0   \n",
       "4 2010-08-03 00:00:00+00:00         7966  2010  Tue   Aug    31          5.0   \n",
       "\n",
       "   humidity  pressure  radiation  precipitation  snow_depth  sunshine  \\\n",
       "0      65.0   10147.0      157.0           22.0         0.0      31.0   \n",
       "1      70.0   10116.0      184.0            0.0         0.0      47.0   \n",
       "2      63.0   10132.0       89.0            0.0         0.0       3.0   \n",
       "3      59.0   10168.0      134.0            0.0         0.0      20.0   \n",
       "4      66.0   10157.0      169.0            0.0         0.0      39.0   \n",
       "\n",
       "   mean_temp  min_temp  max_temp  weekend  season  \n",
       "0       17.7      12.3      25.1    False  Summer  \n",
       "1       21.1      17.0      23.9     True  Summer  \n",
       "2       19.3      14.6      23.4     True  Summer  \n",
       "3       19.5      15.6      23.6    False  Summer  \n",
       "4       17.9      12.1      20.1    False  Summer  "
      ]
     },
     "execution_count": 21,
     "metadata": {},
     "output_type": "execute_result"
    }
   ],
   "source": [
    "#Extract season based on month (northern hemisphere in London)\n",
    "conditions = [\n",
    "    bikes[\"date\"].dt.month.isin([12, 1, 2]),\n",
    "    bikes[\"date\"].dt.month.isin([3, 4, 5]),\n",
    "    bikes[\"date\"].dt.month.isin([6, 7, 8]),\n",
    "    bikes[\"date\"].dt.month.isin([9, 10, 11]),\n",
    "]\n",
    "choices = [\"Winter\", \"Spring\", \"Summer\", \"Autumn\"]\n",
    "bikes[\"season\"] = np.select(conditions, choices, default = 'Unknown')\n",
    "bikes[\"season\"] = pd.Categorical(\n",
    "    bikes[\"season\"],\n",
    "    categories=[\"Winter\", \"Spring\", \"Summer\", \"Autumn\"],\n",
    "    ordered=True\n",
    ")\n",
    "bikes.head()"
   ]
  },
  {
   "cell_type": "markdown",
   "id": "44a915a8",
   "metadata": {},
   "source": [
    "**2. Exploratory Data Analysis (EDA)**\n",
    "\n",
    "Plot the distribution of bikes rented.\n",
    "\n",
    "Explore how rentals vary by season and month.\n",
    "\n",
    "Investigate the relationship between temperature and bikes rented.\n",
    "\n",
    "**Deliverables:**\n",
    "\n",
    "At least 3 clear visualisations with captions.\n",
    "\n",
    "A short written interpretation of key patterns (seasonality, weather effects, etc.).\n",
    "\n"
   ]
  },
  {
   "cell_type": "code",
   "execution_count": 22,
   "id": "5aacf6e9",
   "metadata": {},
   "outputs": [
    {
     "data": {
      "image/png": "[encoded data removed]",
      "text/plain": [
       "<Figure size 1000x600 with 1 Axes>"
      ]
     },
     "metadata": {},
     "output_type": "display_data"
    },
    {
     "data": {
      "application/vnd.microsoft.datawrangler.viewer.v0+json": {
       "columns": [
        {
         "name": "index",
         "rawType": "int64",
         "type": "integer"
        },
        {
         "name": "date",
         "rawType": "datetime64[ns, UTC]",
         "type": "unknown"
        },
        {
         "name": "bikes_hired",
         "rawType": "int64",
         "type": "integer"
        },
        {
         "name": "year",
         "rawType": "int64",
         "type": "integer"
        },
        {
         "name": "wday",
         "rawType": "object",
         "type": "string"
        },
        {
         "name": "month",
         "rawType": "object",
         "type": "string"
        },
        {
         "name": "week",
         "rawType": "int64",
         "type": "integer"
        },
        {
         "name": "cloud_cover",
         "rawType": "float64",
         "type": "float"
        },
        {
         "name": "humidity",
         "rawType": "float64",
         "type": "float"
        },
        {
         "name": "pressure",
         "rawType": "float64",
         "type": "float"
        },
        {
         "name": "radiation",
         "rawType": "float64",
         "type": "float"
        },
        {
         "name": "precipitation",
         "rawType": "float64",
         "type": "float"
        },
        {
         "name": "snow_depth",
         "rawType": "float64",
         "type": "float"
        },
        {
         "name": "sunshine",
         "rawType": "float64",
         "type": "float"
        },
        {
         "name": "mean_temp",
         "rawType": "float64",
         "type": "float"
        },
        {
         "name": "min_temp",
         "rawType": "float64",
         "type": "float"
        },
        {
         "name": "max_temp",
         "rawType": "float64",
         "type": "float"
        },
        {
         "name": "weekend",
         "rawType": "bool",
         "type": "boolean"
        },
        {
         "name": "season",
         "rawType": "category",
         "type": "unknown"
        }
       ],
       "ref": "c56070ec-bfd5-4226-bd08-e7a62a245324",
       "rows": [
        [
         "0",
         "2010-07-30 00:00:00+00:00",
         "6897",
         "2010",
         "Fri",
         "Jul",
         "30",
         "6.0",
         "65.0",
         "10147.0",
         "157.0",
         "22.0",
         "0.0",
         "31.0",
         "17.7",
         "12.3",
         "25.1",
         "False",
         "Summer"
        ],
        [
         "1",
         "2010-07-31 00:00:00+00:00",
         "5564",
         "2010",
         "Sat",
         "Jul",
         "30",
         "5.0",
         "70.0",
         "10116.0",
         "184.0",
         "0.0",
         "0.0",
         "47.0",
         "21.1",
         "17.0",
         "23.9",
         "True",
         "Summer"
        ],
        [
         "2",
         "2010-08-01 00:00:00+00:00",
         "4303",
         "2010",
         "Sun",
         "Aug",
         "30",
         "7.0",
         "63.0",
         "10132.0",
         "89.0",
         "0.0",
         "0.0",
         "3.0",
         "19.3",
         "14.6",
         "23.4",
         "True",
         "Summer"
        ],
        [
         "3",
         "2010-08-02 00:00:00+00:00",
         "6642",
         "2010",
         "Mon",
         "Aug",
         "31",
         "7.0",
         "59.0",
         "10168.0",
         "134.0",
         "0.0",
         "0.0",
         "20.0",
         "19.5",
         "15.6",
         "23.6",
         "False",
         "Summer"
        ],
        [
         "4",
         "2010-08-03 00:00:00+00:00",
         "7966",
         "2010",
         "Tue",
         "Aug",
         "31",
         "5.0",
         "66.0",
         "10157.0",
         "169.0",
         "0.0",
         "0.0",
         "39.0",
         "17.9",
         "12.1",
         "20.1",
         "False",
         "Summer"
        ]
       ],
       "shape": {
        "columns": 18,
        "rows": 5
       }
      },
      "text/html": [
       "<div>\n",
       "<style scoped>\n",
       "    .dataframe tbody tr th:only-of-type {\n",
       "        vertical-align: middle;\n",
       "    }\n",
       "\n",
       "    .dataframe tbody tr th {\n",
       "        vertical-align: top;\n",
       "    }\n",
       "\n",
       "    .dataframe thead th {\n",
       "        text-align: right;\n",
       "    }\n",
       "</style>\n",
       "<table border=\"1\" class=\"dataframe\">\n",
       "  <thead>\n",
       "    <tr style=\"text-align: right;\">\n",
       "      <th></th>\n",
       "      <th>date</th>\n",
       "      <th>bikes_hired</th>\n",
       "      <th>year</th>\n",
       "      <th>wday</th>\n",
       "      <th>month</th>\n",
       "      <th>week</th>\n",
       "      <th>cloud_cover</th>\n",
       "      <th>humidity</th>\n",
       "      <th>pressure</th>\n",
       "      <th>radiation</th>\n",
       "      <th>precipitation</th>\n",
       "      <th>snow_depth</th>\n",
       "      <th>sunshine</th>\n",
       "      <th>mean_temp</th>\n",
       "      <th>min_temp</th>\n",
       "      <th>max_temp</th>\n",
       "      <th>weekend</th>\n",
       "      <th>season</th>\n",
       "    </tr>\n",
       "  </thead>\n",
       "  <tbody>\n",
       "    <tr>\n",
       "      <th>0</th>\n",
       "      <td>2010-07-30 00:00:00+00:00</td>\n",
       "      <td>6897</td>\n",
       "      <td>2010</td>\n",
       "      <td>Fri</td>\n",
       "      <td>Jul</td>\n",
       "      <td>30</td>\n",
       "      <td>6.0</td>\n",
       "      <td>65.0</td>\n",
       "      <td>10147.0</td>\n",
       "      <td>157.0</td>\n",
       "      <td>22.0</td>\n",
       "      <td>0.0</td>\n",
       "      <td>31.0</td>\n",
       "      <td>17.7</td>\n",
       "      <td>12.3</td>\n",
       "      <td>25.1</td>\n",
       "      <td>False</td>\n",
       "      <td>Summer</td>\n",
       "    </tr>\n",
       "    <tr>\n",
       "      <th>1</th>\n",
       "      <td>2010-07-31 00:00:00+00:00</td>\n",
       "      <td>5564</td>\n",
       "      <td>2010</td>\n",
       "      <td>Sat</td>\n",
       "      <td>Jul</td>\n",
       "      <td>30</td>\n",
       "      <td>5.0</td>\n",
       "      <td>70.0</td>\n",
       "      <td>10116.0</td>\n",
       "      <td>184.0</td>\n",
       "      <td>0.0</td>\n",
       "      <td>0.0</td>\n",
       "      <td>47.0</td>\n",
       "      <td>21.1</td>\n",
       "      <td>17.0</td>\n",
       "      <td>23.9</td>\n",
       "      <td>True</td>\n",
       "      <td>Summer</td>\n",
       "    </tr>\n",
       "    <tr>\n",
       "      <th>2</th>\n",
       "      <td>2010-08-01 00:00:00+00:00</td>\n",
       "      <td>4303</td>\n",
       "      <td>2010</td>\n",
       "      <td>Sun</td>\n",
       "      <td>Aug</td>\n",
       "      <td>30</td>\n",
       "      <td>7.0</td>\n",
       "      <td>63.0</td>\n",
       "      <td>10132.0</td>\n",
       "      <td>89.0</td>\n",
       "      <td>0.0</td>\n",
       "      <td>0.0</td>\n",
       "      <td>3.0</td>\n",
       "      <td>19.3</td>\n",
       "      <td>14.6</td>\n",
       "      <td>23.4</td>\n",
       "      <td>True</td>\n",
       "      <td>Summer</td>\n",
       "    </tr>\n",
       "    <tr>\n",
       "      <th>3</th>\n",
       "      <td>2010-08-02 00:00:00+00:00</td>\n",
       "      <td>6642</td>\n",
       "      <td>2010</td>\n",
       "      <td>Mon</td>\n",
       "      <td>Aug</td>\n",
       "      <td>31</td>\n",
       "      <td>7.0</td>\n",
       "      <td>59.0</td>\n",
       "      <td>10168.0</td>\n",
       "      <td>134.0</td>\n",
       "      <td>0.0</td>\n",
       "      <td>0.0</td>\n",
       "      <td>20.0</td>\n",
       "      <td>19.5</td>\n",
       "      <td>15.6</td>\n",
       "      <td>23.6</td>\n",
       "      <td>False</td>\n",
       "      <td>Summer</td>\n",
       "    </tr>\n",
       "    <tr>\n",
       "      <th>4</th>\n",
       "      <td>2010-08-03 00:00:00+00:00</td>\n",
       "      <td>7966</td>\n",
       "      <td>2010</td>\n",
       "      <td>Tue</td>\n",
       "      <td>Aug</td>\n",
       "      <td>31</td>\n",
       "      <td>5.0</td>\n",
       "      <td>66.0</td>\n",
       "      <td>10157.0</td>\n",
       "      <td>169.0</td>\n",
       "      <td>0.0</td>\n",
       "      <td>0.0</td>\n",
       "      <td>39.0</td>\n",
       "      <td>17.9</td>\n",
       "      <td>12.1</td>\n",
       "      <td>20.1</td>\n",
       "      <td>False</td>\n",
       "      <td>Summer</td>\n",
       "    </tr>\n",
       "  </tbody>\n",
       "</table>\n",
       "</div>"
      ],
      "text/plain": [
       "                       date  bikes_hired  year wday month  week  cloud_cover  \\\n",
       "0 2010-07-30 00:00:00+00:00         6897  2010  Fri   Jul    30          6.0   \n",
       "1 2010-07-31 00:00:00+00:00         5564  2010  Sat   Jul    30          5.0   \n",
       "2 2010-08-01 00:00:00+00:00         4303  2010  Sun   Aug    30          7.0   \n",
       "3 2010-08-02 00:00:00+00:00         6642  2010  Mon   Aug    31          7.0   \n",
       "4 2010-08-03 00:00:00+00:00         7966  2010  Tue   Aug    31          5.0   \n",
       "\n",
       "   humidity  pressure  radiation  precipitation  snow_depth  sunshine  \\\n",
       "0      65.0   10147.0      157.0           22.0         0.0      31.0   \n",
       "1      70.0   10116.0      184.0            0.0         0.0      47.0   \n",
       "2      63.0   10132.0       89.0            0.0         0.0       3.0   \n",
       "3      59.0   10168.0      134.0            0.0         0.0      20.0   \n",
       "4      66.0   10157.0      169.0            0.0         0.0      39.0   \n",
       "\n",
       "   mean_temp  min_temp  max_temp  weekend  season  \n",
       "0       17.7      12.3      25.1    False  Summer  \n",
       "1       21.1      17.0      23.9     True  Summer  \n",
       "2       19.3      14.6      23.4     True  Summer  \n",
       "3       19.5      15.6      23.6    False  Summer  \n",
       "4       17.9      12.1      20.1    False  Summer  "
      ]
     },
     "execution_count": 22,
     "metadata": {},
     "output_type": "execute_result"
    }
   ],
   "source": [
    "#plot distribution of bikes rented\n",
    "plt.figure(figsize=(10, 6))\n",
    "sns.histplot(bikes['bikes_hired'], bins=30, kde=True)\n",
    "plt.title('Distribution of Bikes Rented')\n",
    "plt.xlabel('Number of Bikes Rented')\n",
    "plt.ylabel('Frequency')\n",
    "plt.show()\n",
    "\n",
    "bikes.head()"
   ]
  },
  {
   "cell_type": "code",
   "execution_count": null,
   "id": "2a51399f",
   "metadata": {},
   "outputs": [
    {
     "name": "stderr",
     "output_type": "stream",
     "text": [
      "/tmp/ipykernel_32875/69454280.py:3: FutureWarning: \n",
      "\n",
      "Passing `palette` without assigning `hue` is deprecated and will be removed in v0.14.0. Assign the `x` variable to `hue` and set `legend=False` for the same effect.\n",
      "\n",
      "  sns.boxplot(x='season', y='bikes_hired', data=bikes, palette='Set2')\n"
     ]
    },
    {
     "data": {
      "image/png": "[encoded data removed]",
      "text/plain": [
       "<Figure size 1000x600 with 1 Axes>"
      ]
     },
     "metadata": {},
     "output_type": "display_data"
    },
    {
     "data": {
      "image/png": "[encoded data removed]",
      "text/plain": [
       "<Figure size 800x800 with 4 Axes>"
      ]
     },
     "metadata": {},
     "output_type": "display_data"
    }
   ],
   "source": [
    "#explore how bikes rented varies by season\n",
    "plt.figure(figsize=(10, 6))\n",
    "sns.boxplot(x='season', y='bikes_hired', data=bikes, palette='Set2')\n",
    "plt.title('Bikes Rented by Season')\n",
    "plt.xlabel('Season')\n",
    "plt.ylabel('Number of Bikes Rented')\n",
    "plt.show()"
   ]
  },
  {
   "cell_type": "code",
   "execution_count": null,
   "id": "d34dc316",
   "metadata": {},
   "outputs": [],
   "source": [
    "#histograms of bikes rented by season\n",
    "g = sns.FacetGrid(bikes, col=\"season\", col_wrap=2, height=4)\n",
    "g.map(sns.histplot, \"bikes_hired\", bins=20, kde=True)\n",
    "g.set_axis_labels(\"Number of Bikes Rented\", \"Frequency\")\n",
    "g.fig.suptitle('Distribution of Bikes Rented by Season', y=1.02)\n",
    "plt.show()  "
   ]
  },
  {
   "cell_type": "code",
   "execution_count": 29,
   "id": "1794750e",
   "metadata": {},
   "outputs": [
    {
     "name": "stderr",
     "output_type": "stream",
     "text": [
      "/tmp/ipykernel_32875/4084301565.py:3: FutureWarning: The default of observed=False is deprecated and will be changed to True in a future version of pandas. Pass observed=False to retain current behavior or observed=True to adopt the future default and silence this warning.\n",
      "  bikes.groupby(bikes[\"month\"])\n"
     ]
    },
    {
     "data": {
      "image/png": "[encoded data removed]",
      "text/plain": [
       "<Figure size 1200x600 with 1 Axes>"
      ]
     },
     "metadata": {},
     "output_type": "display_data"
    }
   ],
   "source": [
    "#lineplot of the sum and mean of bikes rented for each month over all years\n",
    "bikes_monthly = (\n",
    "    bikes.groupby(bikes[\"month\"])\n",
    "            .agg(total_bikes_rented=(\"bikes_hired\", \"sum\"))\n",
    "            .reset_index()\n",
    ")\n",
    "\n",
    "plt.figure(figsize=(12, 6))\n",
    "sns.lineplot(data=bikes_monthly, x=\"month\", y=\"total_bikes_rented\", label=\"Total Bikes Rented\")\n",
    "plt.title(\"Monthly Bikes Rented Over Months (aggregated over all years)\")\n",
    "plt.xlabel(\"Date\")\n",
    "plt.ylabel(\"Number of Bikes Rented\")\n",
    "plt.legend()\n",
    "plt.show()"
   ]
  },
  {
   "cell_type": "markdown",
   "id": "8367a791",
   "metadata": {},
   "source": [
    "**3. Construct 95% confidence intervals for the mean number of bikes rented per season.**\n",
    "\n",
    "Repeat the calculation per month.\n",
    "\n",
    "Interpret the result:\n",
    "\n",
    "What range of values do you expect the true mean to lie in?\n",
    "\n",
    "Which seasons/months have higher or lower average demand?\n",
    "\n",
    "Are there overlaps in the intervals, and what does that mean?\n",
    "\n",
    "**Deliverables:**\n",
    "\n",
    "A table or plot showing the mean and confidence intervals.\n",
    "\n",
    "A short interpretation."
   ]
  },
  {
   "cell_type": "code",
   "execution_count": null,
   "id": "732fdf58",
   "metadata": {},
   "outputs": [],
   "source": [
    "## Your code goes here"
   ]
  },
  {
   "cell_type": "markdown",
   "id": "022fa6bf",
   "metadata": {},
   "source": [
    "**Regression Analysis**\n",
    "\n",
    "What variables influence the number of bikes rented (y) and how? Build a regression model that best explains the variability in bikes rented.\n",
    "\n",
    "**Interpret:**\n",
    "\n",
    "Which predictors are significant?\n",
    "\n",
    "What do the coefficients mean (in practical terms)?\n",
    "\n",
    "How much of the variation in bike rentals is explained (R²)?\n",
    "\n",
    "**Deliverables:**\n",
    "\n",
    "Regression output table.\n",
    "\n",
    "A short discussion of which factors matter most for predicting bike rentals."
   ]
  },
  {
   "cell_type": "code",
   "execution_count": null,
   "id": "fba598cb",
   "metadata": {},
   "outputs": [],
   "source": [
    "### Your code goes here"
   ]
  },
  {
   "cell_type": "markdown",
   "id": "225d1c3b",
   "metadata": {},
   "source": [
    "## Deliverables\n",
    "A knitted HTML, one person per group to submit"
   ]
  },
  {
   "cell_type": "markdown",
   "id": "5a4efb13",
   "metadata": {},
   "source": []
  }
 ],
 "metadata": {
  "kernelspec": {
   "display_name": "Python 3",
   "language": "python",
   "name": "python3"
  },
  "language_info": {
   "codemirror_mode": {
    "name": "ipython",
    "version": 3
   },
   "file_extension": ".py",
   "mimetype": "text/x-python",
   "name": "python",
   "nbconvert_exporter": "python",
   "pygments_lexer": "ipython3",
   "version": "3.12.1"
  }
 },
 "nbformat": 4,
 "nbformat_minor": 5
}
